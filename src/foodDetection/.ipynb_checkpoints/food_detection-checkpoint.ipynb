{
 "cells": [
  {
   "cell_type": "markdown",
   "metadata": {
    "colab_type": "text",
    "id": "9brUxyTpYZHy"
   },
   "source": [
    "The following python code will use the OS library to use Operating System libraries, giving you access to the file system, and the zipfile library allowing you to unzip the data. "
   ]
  },
  {
   "cell_type": "markdown",
   "metadata": {
    "colab_type": "text",
    "id": "o-qUPyfO7Qr8"
   },
   "source": [
    "The contents of the .zip are extracted to the base directory `/tmp/horse-or-human`, which in turn each contain `filtered-horses` and `filtered-humans` subdirectories.\n",
    "\n",
    "In short: The training set is the data that is used to tell the neural network model that 'this is what a horse looks like', 'this is what a human looks like' etc. \n",
    "\n",
    "One thing to pay attention to in this sample: We do not explicitly label the images as horses or humans. If you remember with the handwriting example earlier, we had labelled 'this is a 1', 'this is a 7' etc.  Later you'll see something called an ImageGenerator being used -- and this is coded to read images from subdirectories, and automatically label them from the name of that subdirectory. So, for example, you will have a 'training' directory containing a 'filtered-horses' directory and a 'filtered-humans' one. ImageGenerator will label the images appropriately for you, reducing a coding step. \n",
    "\n",
    "Let's define each of these directories:"
   ]
  },
  {
   "cell_type": "code",
   "execution_count": 1,
   "metadata": {},
   "outputs": [],
   "source": [
    "import os\n",
    "import random\n",
    "%matplotlib inline\n",
    "\n",
    "import matplotlib.pyplot as plt\n",
    "import matplotlib.image as mpimg\n",
    "import tensorflow as tf"
   ]
  },
  {
   "cell_type": "code",
   "execution_count": 2,
   "metadata": {
    "colab": {},
    "colab_type": "code",
    "id": "NR_M9nWN-K8B"
   },
   "outputs": [],
   "source": [
    "# Directory with our training horse pictures\n",
    "train_dir = os.path.abspath(\"../../case-studies/food-detection/test-images/\")\n",
    "class_folders = os.listdir(train_dir)"
   ]
  },
  {
   "cell_type": "markdown",
   "metadata": {
    "colab_type": "text",
    "id": "HlqN5KbafhLI"
   },
   "source": [
    "Let's find out the total number of horse and human images in the directories:"
   ]
  },
  {
   "cell_type": "code",
   "execution_count": 32,
   "metadata": {
    "colab": {
     "base_uri": "https://localhost:8080/",
     "height": 52
    },
    "colab_type": "code",
    "id": "H4XHh2xSfgie",
    "outputId": "a15eae46-1db3-4d48-8e41-aca1448f1563",
    "scrolled": true
   },
   "outputs": [
    {
     "name": "stdout",
     "output_type": "stream",
     "text": [
      "Total number of classes: 36 \n"
     ]
    }
   ],
   "source": [
    "count = 0\n",
    "class_name_cnt = {}\n",
    "for f in class_folders:\n",
    "    if os.path.isdir(os.path.join(train_dir, f)):\n",
    "        class_cnt = 0\n",
    "        for file in os.listdir(os.path.join(train_dir, f)):\n",
    "            count += 1\n",
    "            class_cnt += 1\n",
    "            class_name_cnt [f] = class_cnt\n",
    "print('Total number of classes: {} '.format(len(class_name_cnt)))"
   ]
  },
  {
   "cell_type": "markdown",
   "metadata": {
    "colab_type": "text",
    "id": "C3WZABE9eX-8"
   },
   "source": [
    "Now let's take a look at a few pictures to get a better sense of what they look like. First, configure the matplot parameters:"
   ]
  },
  {
   "cell_type": "code",
   "execution_count": null,
   "metadata": {
    "colab": {},
    "colab_type": "code",
    "id": "b2_Q0-_5UAv-"
   },
   "outputs": [],
   "source": [
    "%matplotlib inline\n",
    "\n",
    "import matplotlib.pyplot as plt\n",
    "import matplotlib.image as mpimg\n",
    "\n",
    "# Parameters for our graph; we'll output images in a 4x4 configuration\n",
    "nrows = 4\n",
    "ncols = 4\n",
    "\n",
    "# Index for iterating over images\n",
    "pic_index = 0"
   ]
  },
  {
   "cell_type": "markdown",
   "metadata": {
    "colab_type": "text",
    "id": "xTvHzGCxXkqp"
   },
   "source": [
    "Now, display a batch of 8 horse and 8 human pictures. You can rerun the cell to see a fresh batch each time:"
   ]
  },
  {
   "cell_type": "code",
   "execution_count": null,
   "metadata": {},
   "outputs": [],
   "source": [
    "# Set up matplotlib fig, and size it to fit 4x4 pics\n",
    "fig = plt.gcf()\n",
    "fig.set_size_inches(ncols * 4, nrows * 4)\n",
    "\n",
    "images = []\n",
    "for f in class_folders:\n",
    "    if os.path.isdir(os.path.join(train_dir, f)):\n",
    "        for image in os.listdir(os.path.join(train_dir, f)):\n",
    "            if image.endswith('jpg'):\n",
    "                images.append(os.path.join(train_dir, f, image))\n",
    "\n",
    "random_images = random.choices(population=images, k=5)"
   ]
  },
  {
   "cell_type": "code",
   "execution_count": null,
   "metadata": {},
   "outputs": [],
   "source": [
    "random_images"
   ]
  },
  {
   "cell_type": "code",
   "execution_count": null,
   "metadata": {
    "colab": {
     "base_uri": "https://localhost:8080/",
     "height": 941
    },
    "colab_type": "code",
    "id": "Wpr8GxjOU8in",
    "outputId": "271ca515-3662-4401-d564-d7c2e449f10e"
   },
   "outputs": [],
   "source": [
    "\n",
    "for i, img_path in enumerate(images):\n",
    "  # Set up subplot; subplot indices start at 1\n",
    "  sp = plt.subplot(nrows, ncols, i + 1)\n",
    "  sp.axis('Off') # Don't show axes (or gridlines)\n",
    "\n",
    "  img = mpimg.imread(img_path)\n",
    "  plt.imshow(img)\n",
    "\n",
    "plt.show()"
   ]
  },
  {
   "cell_type": "markdown",
   "metadata": {
    "colab_type": "text",
    "id": "5oqBkNBJmtUv"
   },
   "source": [
    "## Building a Small Model from Scratch\n",
    "\n",
    "But before we continue, let's start defining the model:\n",
    "\n",
    "Step 1 will be to import tensorflow."
   ]
  },
  {
   "cell_type": "markdown",
   "metadata": {
    "colab_type": "text",
    "id": "BnhYCP4tdqjC"
   },
   "source": [
    "We then add convolutional layers as in the previous example, and flatten the final result to feed into the densely connected layers."
   ]
  },
  {
   "cell_type": "markdown",
   "metadata": {
    "colab_type": "text",
    "id": "gokG5HKpdtzm"
   },
   "source": [
    "Finally we add the densely connected layers. \n",
    "\n",
    "Note that because we are facing a two-class classification problem, i.e. a *binary classification problem*, we will end our network with a [*sigmoid* activation](https://wikipedia.org/wiki/Sigmoid_function), so that the output of our network will be a single scalar between 0 and 1, encoding the probability that the current image is class 1 (as opposed to class 0)."
   ]
  },
  {
   "cell_type": "code",
   "execution_count": 33,
   "metadata": {
    "colab": {
     "base_uri": "https://localhost:8080/",
     "height": 89
    },
    "colab_type": "code",
    "id": "PixZ2s5QbYQ3",
    "outputId": "e5bac5bc-62c0-41cd-cae6-2a868455572f"
   },
   "outputs": [],
   "source": [
    "model = tf.keras.models.Sequential([\n",
    "    # Note the input shape is the desired size of the image 300x300 with 3 bytes color\n",
    "    # This is the first convolution\n",
    "    tf.keras.layers.Conv2D(16, (3,3), activation='relu', input_shape=(200, 200, 3)),\n",
    "    tf.keras.layers.MaxPooling2D(2, 2),\n",
    "    # The second convolution\n",
    "    tf.keras.layers.Conv2D(32, (3,3), activation='relu'),\n",
    "    tf.keras.layers.MaxPooling2D(2,2),\n",
    "    # The third convolution\n",
    "    tf.keras.layers.Conv2D(64, (3,3), activation='relu'),\n",
    "    tf.keras.layers.MaxPooling2D(2,2),\n",
    "    # The fourth convolution\n",
    "    tf.keras.layers.Conv2D(64, (3,3), activation='relu'),\n",
    "    tf.keras.layers.MaxPooling2D(2,2),\n",
    "    # The fifth convolution\n",
    "    tf.keras.layers.Conv2D(64, (3,3), activation='relu'),\n",
    "    tf.keras.layers.MaxPooling2D(2,2),\n",
    "    # Flatten the results to feed into a DNN\n",
    "    tf.keras.layers.Flatten(),\n",
    "    # 512 neuron hidden layer\n",
    "    tf.keras.layers.Dense(512, activation='relu'),\n",
    "    # Only 1 output neuron. It will contain a value from 0-1 where 0 for 1 class ('horses') and 1 for the other ('humans')\n",
    "    tf.keras.layers.Dense(44, activation='softmax')\n",
    "])"
   ]
  },
  {
   "cell_type": "markdown",
   "metadata": {
    "colab_type": "text",
    "id": "s9EaFDP5srBa"
   },
   "source": [
    "The model.summary() method call prints a summary of the NN "
   ]
  },
  {
   "cell_type": "code",
   "execution_count": 39,
   "metadata": {
    "colab": {
     "base_uri": "https://localhost:8080/",
     "height": 589
    },
    "colab_type": "code",
    "id": "7ZKj8392nbgP",
    "outputId": "4e2ceebb-03ba-4c5f-efa3-63508378df7e",
    "scrolled": true
   },
   "outputs": [
    {
     "name": "stdout",
     "output_type": "stream",
     "text": [
      "Model: \"sequential_5\"\n",
      "_________________________________________________________________\n",
      "Layer (type)                 Output Shape              Param #   \n",
      "=================================================================\n",
      "conv2d_25 (Conv2D)           (None, 198, 198, 16)      448       \n",
      "_________________________________________________________________\n",
      "max_pooling2d_25 (MaxPooling (None, 99, 99, 16)        0         \n",
      "_________________________________________________________________\n",
      "conv2d_26 (Conv2D)           (None, 97, 97, 32)        4640      \n",
      "_________________________________________________________________\n",
      "max_pooling2d_26 (MaxPooling (None, 48, 48, 32)        0         \n",
      "_________________________________________________________________\n",
      "conv2d_27 (Conv2D)           (None, 46, 46, 64)        18496     \n",
      "_________________________________________________________________\n",
      "max_pooling2d_27 (MaxPooling (None, 23, 23, 64)        0         \n",
      "_________________________________________________________________\n",
      "conv2d_28 (Conv2D)           (None, 21, 21, 64)        36928     \n",
      "_________________________________________________________________\n",
      "max_pooling2d_28 (MaxPooling (None, 10, 10, 64)        0         \n",
      "_________________________________________________________________\n",
      "conv2d_29 (Conv2D)           (None, 8, 8, 64)          36928     \n",
      "_________________________________________________________________\n",
      "max_pooling2d_29 (MaxPooling (None, 4, 4, 64)          0         \n",
      "_________________________________________________________________\n",
      "flatten_5 (Flatten)          (None, 1024)              0         \n",
      "_________________________________________________________________\n",
      "dense_10 (Dense)             (None, 512)               524800    \n",
      "_________________________________________________________________\n",
      "dense_11 (Dense)             (None, 44)                22572     \n",
      "=================================================================\n",
      "Total params: 644,812\n",
      "Trainable params: 644,812\n",
      "Non-trainable params: 0\n",
      "_________________________________________________________________\n",
      "None\n"
     ]
    }
   ],
   "source": [
    "print(model.summary())"
   ]
  },
  {
   "cell_type": "markdown",
   "metadata": {
    "colab_type": "text",
    "id": "DmtkTn06pKxF"
   },
   "source": [
    "The \"output shape\" column shows how the size of your feature map evolves in each successive layer. The convolution layers reduce the size of the feature maps by a bit due to padding, and each pooling layer halves the dimensions."
   ]
  },
  {
   "cell_type": "markdown",
   "metadata": {
    "colab_type": "text",
    "id": "PEkKSpZlvJXA"
   },
   "source": [
    "Next, we'll configure the specifications for model training. We will train our model with the `binary_crossentropy` loss, because it's a binary classification problem and our final activation is a sigmoid. (For a refresher on loss metrics, see the [Machine Learning Crash Course](https://developers.google.com/machine-learning/crash-course/descending-into-ml/video-lecture).) We will use the `rmsprop` optimizer with a learning rate of `0.001`. During training, we will want to monitor classification accuracy.\n",
    "\n",
    "**NOTE**: In this case, using the [RMSprop optimization algorithm](https://wikipedia.org/wiki/Stochastic_gradient_descent#RMSProp) is preferable to [stochastic gradient descent](https://developers.google.com/machine-learning/glossary/#SGD) (SGD), because RMSprop automates learning-rate tuning for us. (Other optimizers, such as [Adam](https://wikipedia.org/wiki/Stochastic_gradient_descent#Adam) and [Adagrad](https://developers.google.com/machine-learning/glossary/#AdaGrad), also automatically adapt the learning rate during training, and would work equally well here.)"
   ]
  },
  {
   "cell_type": "code",
   "execution_count": 35,
   "metadata": {
    "colab": {},
    "colab_type": "code",
    "id": "8DHWhFP_uhq3"
   },
   "outputs": [],
   "source": [
    "from tensorflow.keras.optimizers import RMSprop\n",
    "\n",
    "model.compile(loss='sparse_categorical_crossentropy',\n",
    "              optimizer=RMSprop(lr=0.001),\n",
    "              metrics=['acc'])"
   ]
  },
  {
   "cell_type": "markdown",
   "metadata": {
    "colab_type": "text",
    "id": "Sn9m9D3UimHM"
   },
   "source": [
    "### Data Preprocessing\n",
    "\n",
    "Let's set up data generators that will read pictures in our source folders, convert them to `float32` tensors, and feed them (with their labels) to our network. We'll have one generator for the training images and one for the validation images. Our generators will yield batches of images of size 300x300 and their labels (binary).\n",
    "\n",
    "As you may already know, data that goes into neural networks should usually be normalized in some way to make it more amenable to processing by the network. (It is uncommon to feed raw pixels into a convnet.) In our case, we will preprocess our images by normalizing the pixel values to be in the `[0, 1]` range (originally all values are in the `[0, 255]` range).\n",
    "\n",
    "In Keras this can be done via the `keras.preprocessing.image.ImageDataGenerator` class using the `rescale` parameter. This `ImageDataGenerator` class allows you to instantiate generators of augmented image batches (and their labels) via `.flow(data, labels)` or `.flow_from_directory(directory)`. These generators can then be used with the Keras model methods that accept data generators as inputs: `fit_generator`, `evaluate_generator`, and `predict_generator`."
   ]
  },
  {
   "cell_type": "code",
   "execution_count": 44,
   "metadata": {
    "colab": {
     "base_uri": "https://localhost:8080/",
     "height": 35
    },
    "colab_type": "code",
    "id": "ClebU9NJg99G",
    "outputId": "1e14a0d8-18cf-49b5-d983-696ac6546edc"
   },
   "outputs": [
    {
     "name": "stdout",
     "output_type": "stream",
     "text": [
      "Found 44000 images belonging to 44 classes.\n"
     ]
    }
   ],
   "source": [
    "from tensorflow.keras.preprocessing.image import ImageDataGenerator\n",
    "\n",
    "# All images will be rescaled by 1./255\n",
    "train_datagen = ImageDataGenerator(rescale=1/255)\n",
    "\n",
    "# Flow training images in batches of 128 using train_datagen generator\n",
    "train_generator = train_datagen.flow_from_directory(\n",
    "        train_dir,  # This is the source directory for training images\n",
    "        target_size=(200, 200),  # All images will be resized to 150x150\n",
    "        batch_size=128,\n",
    "        # Since we use binary_crossentropy loss, we need binary labels\n",
    "        class_mode='categorical')"
   ]
  },
  {
   "cell_type": "markdown",
   "metadata": {
    "colab_type": "text",
    "id": "mu3Jdwkjwax4"
   },
   "source": [
    "### Training\n",
    "Let's train for 15 epochs -- this may take a few minutes to run.\n",
    "\n",
    "Do note the values per epoch.\n",
    "\n",
    "The Loss and Accuracy are a great indication of progress of training. It's making a guess as to the classification of the training data, and then measuring it against the known label, calculating the result. Accuracy is the portion of correct guesses. "
   ]
  },
  {
   "cell_type": "code",
   "execution_count": 43,
   "metadata": {
    "colab": {
     "base_uri": "https://localhost:8080/",
     "height": 1347
    },
    "colab_type": "code",
    "id": "Fb1_lgobv81m",
    "outputId": "838e783f-1fbf-47e8-d6ac-8b0668d38cd2"
   },
   "outputs": [
    {
     "name": "stdout",
     "output_type": "stream",
     "text": [
      "Epoch 1/5\n"
     ]
    },
    {
     "ename": "ValueError",
     "evalue": "Output of generator should be a tuple `(x, y, sample_weight)` or `(x, y)`. Found: [[[[0.24705884 0.2509804  0.33333334]\n   [0.2627451  0.27450982 0.34901962]\n   [0.23529413 0.24705884 0.30588236]\n   ...\n   [0.16078432 0.04313726 0.03529412]\n   [0.15294118 0.03529412 0.02745098]\n   [0.16078432 0.04313726 0.04313726]]\n\n  [[0.24313727 0.24705884 0.32941177]\n   [0.25490198 0.25882354 0.3372549 ]\n   [0.2627451  0.27450982 0.34117648]\n   ...\n   [0.17254902 0.05490196 0.04705883]\n   [0.16078432 0.04313726 0.03529412]\n   [0.16470589 0.04705883 0.04705883]]\n\n  [[0.25882354 0.24705884 0.32156864]\n   [0.27058825 0.26666668 0.3372549 ]\n   [0.2901961  0.28627452 0.34901962]\n   ...\n   [0.18039216 0.0627451  0.05490196]\n   [0.16470589 0.04705883 0.03921569]\n   [0.16862746 0.0509804  0.0509804 ]]\n\n  ...\n\n  [[0.86274517 0.8431373  0.82745105]\n   [0.86666673 0.8470589  0.8313726 ]\n   [0.8745099  0.854902   0.83921576]\n   ...\n   [0.8705883  0.8470589  0.86274517]\n   [0.87843144 0.854902   0.8705883 ]\n   [0.86666673 0.8470589  0.86274517]]\n\n  [[0.86666673 0.8470589  0.8235295 ]\n   [0.86274517 0.8431373  0.8196079 ]\n   [0.86274517 0.8431373  0.8196079 ]\n   ...\n   [0.86666673 0.8431373  0.8588236 ]\n   [0.86274517 0.854902   0.86666673]\n   [0.8588236  0.8588236  0.86666673]]\n\n  [[0.86274517 0.8431373  0.8196079 ]\n   [0.86274517 0.8431373  0.8196079 ]\n   [0.86666673 0.8470589  0.8235295 ]\n   ...\n   [0.8705883  0.85098046 0.86666673]\n   [0.8588236  0.8588236  0.86666673]\n   [0.854902   0.8588236  0.86666673]]]\n\n\n [[[0.02352941 0.01568628 0.02745098]\n   [0.03529412 0.         0.02352941]\n   [0.4431373  0.3372549  0.41176474]\n   ...\n   [0.62352943 0.4431373  0.454902  ]\n   [0.6313726  0.4666667  0.47450984]\n   [0.67058825 0.5137255  0.5176471 ]]\n\n  [[0.01960784 0.         0.01568628]\n   [0.03921569 0.         0.02745098]\n   [0.40000004 0.28627452 0.3647059 ]\n   ...\n   [0.6392157  0.454902   0.48627454]\n   [0.7254902  0.56078434 0.5764706 ]\n   [0.654902   0.48627454 0.5137255 ]]\n\n  [[0.02745098 0.00392157 0.01176471]\n   [0.0509804  0.         0.03529412]\n   [0.47450984 0.36078432 0.43137258]\n   ...\n   [0.5921569  0.4039216  0.45882356]\n   [0.6117647  0.43137258 0.48235297]\n   [0.6156863  0.4431373  0.49411768]]\n\n  ...\n\n  [[0.         0.         0.01568628]\n   [0.         0.         0.01568628]\n   [0.         0.         0.00784314]\n   ...\n   [0.         0.         0.        ]\n   [0.         0.00392157 0.01568628]\n   [0.         0.00392157 0.01960784]]\n\n  [[0.00392157 0.         0.01568628]\n   [0.00392157 0.         0.01568628]\n   [0.00392157 0.         0.01568628]\n   ...\n   [0.00392157 0.         0.00784314]\n   [0.00392157 0.         0.00784314]\n   [0.00392157 0.         0.        ]]\n\n  [[0.00392157 0.         0.        ]\n   [0.00392157 0.         0.        ]\n   [0.00392157 0.         0.        ]\n   ...\n   [0.         0.         0.01960784]\n   [0.         0.         0.00784314]\n   [0.         0.         0.        ]]]\n\n\n [[[0.3803922  0.10196079 0.11764707]\n   [0.34901962 0.07058824 0.08627451]\n   [0.3372549  0.06666667 0.07843138]\n   ...\n   [0.38431376 0.3921569  0.34117648]\n   [0.36862746 0.37647063 0.3254902 ]\n   [0.36078432 0.36862746 0.31764707]]\n\n  [[0.37254903 0.09411766 0.10980393]\n   [0.34509805 0.06666667 0.08235294]\n   [0.32941177 0.05882353 0.07058824]\n   ...\n   [0.40000004 0.40784317 0.35686275]\n   [0.39607847 0.4039216  0.3529412 ]\n   [0.38823533 0.39607847 0.34509805]]\n\n  [[0.35686275 0.08235294 0.09019608]\n   [0.36078432 0.08235294 0.09803922]\n   [0.33333334 0.0627451  0.07450981]\n   ...\n   [0.38823533 0.39607847 0.34509805]\n   [0.37647063 0.38431376 0.33333334]\n   [0.37647063 0.38431376 0.33333334]]\n\n  ...\n\n  [[0.07058824 0.03921569 0.03137255]\n   [0.08235294 0.0509804  0.04313726]\n   [0.07843138 0.04705883 0.03921569]\n   ...\n   [0.21568629 0.17254902 0.18823531]\n   [0.2901961  0.24705884 0.2784314 ]\n   [0.21960786 0.17254902 0.21176472]]\n\n  [[0.0627451  0.03137255 0.02352941]\n   [0.0627451  0.03137255 0.02352941]\n   [0.0627451  0.03137255 0.02352941]\n   ...\n   [0.25490198 0.21176472 0.227451  ]\n   [0.21176472 0.16470589 0.20392159]\n   [0.20392159 0.15686275 0.19607845]]\n\n  [[0.07450981 0.04313726 0.03529412]\n   [0.05490196 0.02352941 0.01568628]\n   [0.05882353 0.02745098 0.01960784]\n   ...\n   [0.27058825 0.227451   0.24313727]\n   [0.21568629 0.16862746 0.20784315]\n   [0.2509804  0.20392159 0.2509804 ]]]\n\n\n ...\n\n\n [[[0.20784315 0.14509805 0.01568628]\n   [0.21960786 0.15294118 0.03529412]\n   [0.20784315 0.14117648 0.03137255]\n   ...\n   [0.01568628 0.01176471 0.        ]\n   [0.01960784 0.01568628 0.00784314]\n   [0.01568628 0.01176471 0.00392157]]\n\n  [[0.18039216 0.12156864 0.        ]\n   [0.20000002 0.14117648 0.01960784]\n   [0.18823531 0.1254902  0.02352941]\n   ...\n   [0.01960784 0.01568628 0.        ]\n   [0.01176471 0.00784314 0.        ]\n   [0.01568628 0.01176471 0.        ]]\n\n  [[0.16470589 0.12156864 0.01176471]\n   [0.16078432 0.1137255  0.01176471]\n   [0.18039216 0.13333334 0.03921569]\n   ...\n   [0.06666667 0.05490196 0.03529412]\n   [0.0627451  0.0509804  0.03137255]\n   [0.05490196 0.03921569 0.02745098]]\n\n  ...\n\n  [[0.8588236  0.854902   0.8745099 ]\n   [0.8705883  0.86666673 0.8862746 ]\n   [0.87843144 0.8745099  0.8941177 ]\n   ...\n   [0.16862746 0.14901961 0.1254902 ]\n   [0.16470589 0.14509805 0.12941177]\n   [0.15294118 0.13333334 0.11764707]]\n\n  [[0.8588236  0.854902   0.8745099 ]\n   [0.86274517 0.8588236  0.87843144]\n   [0.86666673 0.86274517 0.882353  ]\n   ...\n   [0.16470589 0.15294118 0.13333334]\n   [0.15686275 0.14117648 0.12941177]\n   [0.14509805 0.12941177 0.1254902 ]]\n\n  [[0.85098046 0.8470589  0.86666673]\n   [0.8588236  0.854902   0.8745099 ]\n   [0.86666673 0.86274517 0.882353  ]\n   ...\n   [0.15686275 0.14509805 0.1254902 ]\n   [0.14509805 0.12941177 0.1254902 ]\n   [0.13333334 0.11764707 0.1137255 ]]]\n\n\n [[[0.38431376 0.47450984 0.63529414]\n   [0.38823533 0.47450984 0.627451  ]\n   [0.3921569  0.47058827 0.6156863 ]\n   ...\n   [0.7725491  0.1254902  0.59607846]\n   [0.7411765  0.10588236 0.54509807]\n   [0.70980394 0.09411766 0.5058824 ]]\n\n  [[0.37647063 0.41960788 0.5294118 ]\n   [0.36862746 0.41176474 0.52156866]\n   [0.34901962 0.38823533 0.49411768]\n   ...\n   [0.79215693 0.1254902  0.6156863 ]\n   [0.76470596 0.10588236 0.5803922 ]\n   [0.7411765  0.09803922 0.5411765 ]]\n\n  [[0.25882354 0.25490198 0.30980393]\n   [0.25882354 0.25490198 0.30980393]\n   [0.2509804  0.24313727 0.29411766]\n   ...\n   [0.8078432  0.15294118 0.67058825]\n   [0.78823537 0.13333334 0.6392157 ]\n   [0.7843138  0.12156864 0.6117647 ]]\n\n  ...\n\n  [[0.52156866 0.14509805 0.09019608]\n   [0.5294118  0.15294118 0.09803922]\n   [0.5137255  0.13725491 0.08235294]\n   ...\n   [0.5058824  0.48627454 0.40000004]\n   [0.49803925 0.4901961  0.40000004]\n   [0.30588236 0.29411766 0.227451  ]]\n\n  [[0.5176471  0.14117648 0.07843138]\n   [0.50980395 0.13333334 0.07058824]\n   [0.5176471  0.14117648 0.08627451]\n   ...\n   [0.45098042 0.45098042 0.35686275]\n   [0.5019608  0.5019608  0.40784317]\n   [0.34117648 0.34509805 0.28235295]]\n\n  [[0.52156866 0.14117648 0.07843138]\n   [0.5019608  0.12156864 0.05882353]\n   [0.53333336 0.14901961 0.09803922]\n   ...\n   [0.4901961  0.49803925 0.4039216 ]\n   [0.4784314  0.48627454 0.40000004]\n   [0.3137255  0.3254902  0.25882354]]]\n\n\n [[[0.01960784 0.01568628 0.        ]\n   [0.01568628 0.01176471 0.        ]\n   [0.01960784 0.01568628 0.        ]\n   ...\n   [0.07843138 0.04313726 0.00784314]\n   [0.07843138 0.04705883 0.        ]\n   [0.08235294 0.05490196 0.        ]]\n\n  [[0.01960784 0.01568628 0.        ]\n   [0.01568628 0.01176471 0.        ]\n   [0.01960784 0.01568628 0.        ]\n   ...\n   [0.09019608 0.05490196 0.01960784]\n   [0.08235294 0.0509804  0.        ]\n   [0.08627451 0.05882353 0.        ]]\n\n  [[0.01960784 0.01568628 0.        ]\n   [0.01568628 0.01176471 0.        ]\n   [0.01960784 0.01568628 0.        ]\n   ...\n   [0.09411766 0.05882353 0.02352941]\n   [0.09803922 0.06666667 0.02352941]\n   [0.09803922 0.06666667 0.01568628]]\n\n  ...\n\n  [[0.21176472 0.1137255  0.03529412]\n   [0.21176472 0.10588236 0.03137255]\n   [0.22352943 0.10196079 0.03137255]\n   ...\n   [0.09803922 0.04705883 0.01176471]\n   [0.1137255  0.04705883 0.01568628]\n   [0.1254902  0.0509804  0.02352941]]\n\n  [[0.1764706  0.09019608 0.00784314]\n   [0.18823531 0.09019608 0.01176471]\n   [0.20392159 0.09019608 0.01960784]\n   ...\n   [0.09411766 0.05490196 0.00784314]\n   [0.10196079 0.05490196 0.00784314]\n   [0.10980393 0.05490196 0.01176471]]\n\n  [[0.17254902 0.09019608 0.00784314]\n   [0.18039216 0.09411766 0.01176471]\n   [0.19607845 0.09019608 0.01568628]\n   ...\n   [0.09411766 0.05882353 0.        ]\n   [0.09803922 0.0627451  0.00392157]\n   [0.1137255  0.06666667 0.01176471]]]]",
     "output_type": "error",
     "traceback": [
      "\u001b[0;31m---------------------------------------------------------------------------\u001b[0m",
      "\u001b[0;31mValueError\u001b[0m                                Traceback (most recent call last)",
      "\u001b[0;32m<ipython-input-43-1a155adf4d0b>\u001b[0m in \u001b[0;36m<module>\u001b[0;34m()\u001b[0m\n\u001b[1;32m      3\u001b[0m       \u001b[0msteps_per_epoch\u001b[0m\u001b[0;34m=\u001b[0m\u001b[0;36m8\u001b[0m\u001b[0;34m,\u001b[0m\u001b[0;34m\u001b[0m\u001b[0m\n\u001b[1;32m      4\u001b[0m       \u001b[0mepochs\u001b[0m\u001b[0;34m=\u001b[0m\u001b[0;36m5\u001b[0m\u001b[0;34m,\u001b[0m\u001b[0;34m\u001b[0m\u001b[0m\n\u001b[0;32m----> 5\u001b[0;31m       verbose=1)\n\u001b[0m",
      "\u001b[0;32m/anaconda3/lib/python3.6/site-packages/tensorflow/python/keras/engine/training.py\u001b[0m in \u001b[0;36mfit_generator\u001b[0;34m(self, generator, steps_per_epoch, epochs, verbose, callbacks, validation_data, validation_steps, validation_freq, class_weight, max_queue_size, workers, use_multiprocessing, shuffle, initial_epoch)\u001b[0m\n\u001b[1;32m   1174\u001b[0m         \u001b[0mshuffle\u001b[0m\u001b[0;34m=\u001b[0m\u001b[0mshuffle\u001b[0m\u001b[0;34m,\u001b[0m\u001b[0;34m\u001b[0m\u001b[0m\n\u001b[1;32m   1175\u001b[0m         \u001b[0minitial_epoch\u001b[0m\u001b[0;34m=\u001b[0m\u001b[0minitial_epoch\u001b[0m\u001b[0;34m,\u001b[0m\u001b[0;34m\u001b[0m\u001b[0m\n\u001b[0;32m-> 1176\u001b[0;31m         steps_name='steps_per_epoch')\n\u001b[0m\u001b[1;32m   1177\u001b[0m \u001b[0;34m\u001b[0m\u001b[0m\n\u001b[1;32m   1178\u001b[0m   def evaluate_generator(self,\n",
      "\u001b[0;32m/anaconda3/lib/python3.6/site-packages/tensorflow/python/keras/engine/training_generator.py\u001b[0m in \u001b[0;36mmodel_iteration\u001b[0;34m(model, data, steps_per_epoch, epochs, verbose, callbacks, validation_data, validation_steps, validation_freq, class_weight, max_queue_size, workers, use_multiprocessing, shuffle, initial_epoch, mode, batch_size, steps_name, **kwargs)\u001b[0m\n\u001b[1;32m    218\u001b[0m     \u001b[0mstep\u001b[0m \u001b[0;34m=\u001b[0m \u001b[0;36m0\u001b[0m\u001b[0;34m\u001b[0m\u001b[0m\n\u001b[1;32m    219\u001b[0m     \u001b[0;32mwhile\u001b[0m \u001b[0mstep\u001b[0m \u001b[0;34m<\u001b[0m \u001b[0mtarget_steps\u001b[0m\u001b[0;34m:\u001b[0m\u001b[0;34m\u001b[0m\u001b[0m\n\u001b[0;32m--> 220\u001b[0;31m       \u001b[0mbatch_data\u001b[0m \u001b[0;34m=\u001b[0m \u001b[0m_get_next_batch\u001b[0m\u001b[0;34m(\u001b[0m\u001b[0mgenerator\u001b[0m\u001b[0;34m,\u001b[0m \u001b[0mmode\u001b[0m\u001b[0;34m)\u001b[0m\u001b[0;34m\u001b[0m\u001b[0m\n\u001b[0m\u001b[1;32m    221\u001b[0m       \u001b[0;32mif\u001b[0m \u001b[0mbatch_data\u001b[0m \u001b[0;32mis\u001b[0m \u001b[0;32mNone\u001b[0m\u001b[0;34m:\u001b[0m\u001b[0;34m\u001b[0m\u001b[0m\n\u001b[1;32m    222\u001b[0m         \u001b[0;32mif\u001b[0m \u001b[0mis_dataset\u001b[0m\u001b[0;34m:\u001b[0m\u001b[0;34m\u001b[0m\u001b[0m\n",
      "\u001b[0;32m/anaconda3/lib/python3.6/site-packages/tensorflow/python/keras/engine/training_generator.py\u001b[0m in \u001b[0;36m_get_next_batch\u001b[0;34m(generator, mode)\u001b[0m\n\u001b[1;32m    370\u001b[0m       raise ValueError('Output of generator should be '\n\u001b[1;32m    371\u001b[0m                        \u001b[0;34m'a tuple `(x, y, sample_weight)` '\u001b[0m\u001b[0;34m\u001b[0m\u001b[0m\n\u001b[0;32m--> 372\u001b[0;31m                        'or `(x, y)`. Found: ' + str(generator_output))\n\u001b[0m\u001b[1;32m    373\u001b[0m \u001b[0;34m\u001b[0m\u001b[0m\n\u001b[1;32m    374\u001b[0m   \u001b[0;32mif\u001b[0m \u001b[0mlen\u001b[0m\u001b[0;34m(\u001b[0m\u001b[0mgenerator_output\u001b[0m\u001b[0;34m)\u001b[0m \u001b[0;34m<\u001b[0m \u001b[0;36m1\u001b[0m \u001b[0;32mor\u001b[0m \u001b[0mlen\u001b[0m\u001b[0;34m(\u001b[0m\u001b[0mgenerator_output\u001b[0m\u001b[0;34m)\u001b[0m \u001b[0;34m>\u001b[0m \u001b[0;36m3\u001b[0m\u001b[0;34m:\u001b[0m\u001b[0;34m\u001b[0m\u001b[0m\n",
      "\u001b[0;31mValueError\u001b[0m: Output of generator should be a tuple `(x, y, sample_weight)` or `(x, y)`. Found: [[[[0.24705884 0.2509804  0.33333334]\n   [0.2627451  0.27450982 0.34901962]\n   [0.23529413 0.24705884 0.30588236]\n   ...\n   [0.16078432 0.04313726 0.03529412]\n   [0.15294118 0.03529412 0.02745098]\n   [0.16078432 0.04313726 0.04313726]]\n\n  [[0.24313727 0.24705884 0.32941177]\n   [0.25490198 0.25882354 0.3372549 ]\n   [0.2627451  0.27450982 0.34117648]\n   ...\n   [0.17254902 0.05490196 0.04705883]\n   [0.16078432 0.04313726 0.03529412]\n   [0.16470589 0.04705883 0.04705883]]\n\n  [[0.25882354 0.24705884 0.32156864]\n   [0.27058825 0.26666668 0.3372549 ]\n   [0.2901961  0.28627452 0.34901962]\n   ...\n   [0.18039216 0.0627451  0.05490196]\n   [0.16470589 0.04705883 0.03921569]\n   [0.16862746 0.0509804  0.0509804 ]]\n\n  ...\n\n  [[0.86274517 0.8431373  0.82745105]\n   [0.86666673 0.8470589  0.8313726 ]\n   [0.8745099  0.854902   0.83921576]\n   ...\n   [0.8705883  0.8470589  0.86274517]\n   [0.87843144 0.854902   0.8705883 ]\n   [0.86666673 0.8470589  0.86274517]]\n\n  [[0.86666673 0.8470589  0.8235295 ]\n   [0.86274517 0.8431373  0.8196079 ]\n   [0.86274517 0.8431373  0.8196079 ]\n   ...\n   [0.86666673 0.8431373  0.8588236 ]\n   [0.86274517 0.854902   0.86666673]\n   [0.8588236  0.8588236  0.86666673]]\n\n  [[0.86274517 0.8431373  0.8196079 ]\n   [0.86274517 0.8431373  0.8196079 ]\n   [0.86666673 0.8470589  0.8235295 ]\n   ...\n   [0.8705883  0.85098046 0.86666673]\n   [0.8588236  0.8588236  0.86666673]\n   [0.854902   0.8588236  0.86666673]]]\n\n\n [[[0.02352941 0.01568628 0.02745098]\n   [0.03529412 0.         0.02352941]\n   [0.4431373  0.3372549  0.41176474]\n   ...\n   [0.62352943 0.4431373  0.454902  ]\n   [0.6313726  0.4666667  0.47450984]\n   [0.67058825 0.5137255  0.5176471 ]]\n\n  [[0.01960784 0.         0.01568628]\n   [0.03921569 0.         0.02745098]\n   [0.40000004 0.28627452 0.3647059 ]\n   ...\n   [0.6392157  0.454902   0.48627454]\n   [0.7254902  0.56078434 0.5764706 ]\n   [0.654902   0.48627454 0.5137255 ]]\n\n  [[0.02745098 0.00392157 0.01176471]\n   [0.0509804  0.         0.03529412]\n   [0.47450984 0.36078432 0.43137258]\n   ...\n   [0.5921569  0.4039216  0.45882356]\n   [0.6117647  0.43137258 0.48235297]\n   [0.6156863  0.4431373  0.49411768]]\n\n  ...\n\n  [[0.         0.         0.01568628]\n   [0.         0.         0.01568628]\n   [0.         0.         0.00784314]\n   ...\n   [0.         0.         0.        ]\n   [0.         0.00392157 0.01568628]\n   [0.         0.00392157 0.01960784]]\n\n  [[0.00392157 0.         0.01568628]\n   [0.00392157 0.         0.01568628]\n   [0.00392157 0.         0.01568628]\n   ...\n   [0.00392157 0.         0.00784314]\n   [0.00392157 0.         0.00784314]\n   [0.00392157 0.         0.        ]]\n\n  [[0.00392157 0.         0.        ]\n   [0.00392157 0.         0.        ]\n   [0.00392157 0.         0.        ]\n   ...\n   [0.         0.         0.01960784]\n   [0.         0.         0.00784314]\n   [0.         0.         0.        ]]]\n\n\n [[[0.3803922  0.10196079 0.11764707]\n   [0.34901962 0.07058824 0.08627451]\n   [0.3372549  0.06666667 0.07843138]\n   ...\n   [0.38431376 0.3921569  0.34117648]\n   [0.36862746 0.37647063 0.3254902 ]\n   [0.36078432 0.36862746 0.31764707]]\n\n  [[0.37254903 0.09411766 0.10980393]\n   [0.34509805 0.06666667 0.08235294]\n   [0.32941177 0.05882353 0.07058824]\n   ...\n   [0.40000004 0.40784317 0.35686275]\n   [0.39607847 0.4039216  0.3529412 ]\n   [0.38823533 0.39607847 0.34509805]]\n\n  [[0.35686275 0.08235294 0.09019608]\n   [0.36078432 0.08235294 0.09803922]\n   [0.33333334 0.0627451  0.07450981]\n   ...\n   [0.38823533 0.39607847 0.34509805]\n   [0.37647063 0.38431376 0.33333334]\n   [0.37647063 0.38431376 0.33333334]]\n\n  ...\n\n  [[0.07058824 0.03921569 0.03137255]\n   [0.08235294 0.0509804  0.04313726]\n   [0.07843138 0.04705883 0.03921569]\n   ...\n   [0.21568629 0.17254902 0.18823531]\n   [0.2901961  0.24705884 0.2784314 ]\n   [0.21960786 0.17254902 0.21176472]]\n\n  [[0.0627451  0.03137255 0.02352941]\n   [0.0627451  0.03137255 0.02352941]\n   [0.0627451  0.03137255 0.02352941]\n   ...\n   [0.25490198 0.21176472 0.227451  ]\n   [0.21176472 0.16470589 0.20392159]\n   [0.20392159 0.15686275 0.19607845]]\n\n  [[0.07450981 0.04313726 0.03529412]\n   [0.05490196 0.02352941 0.01568628]\n   [0.05882353 0.02745098 0.01960784]\n   ...\n   [0.27058825 0.227451   0.24313727]\n   [0.21568629 0.16862746 0.20784315]\n   [0.2509804  0.20392159 0.2509804 ]]]\n\n\n ...\n\n\n [[[0.20784315 0.14509805 0.01568628]\n   [0.21960786 0.15294118 0.03529412]\n   [0.20784315 0.14117648 0.03137255]\n   ...\n   [0.01568628 0.01176471 0.        ]\n   [0.01960784 0.01568628 0.00784314]\n   [0.01568628 0.01176471 0.00392157]]\n\n  [[0.18039216 0.12156864 0.        ]\n   [0.20000002 0.14117648 0.01960784]\n   [0.18823531 0.1254902  0.02352941]\n   ...\n   [0.01960784 0.01568628 0.        ]\n   [0.01176471 0.00784314 0.        ]\n   [0.01568628 0.01176471 0.        ]]\n\n  [[0.16470589 0.12156864 0.01176471]\n   [0.16078432 0.1137255  0.01176471]\n   [0.18039216 0.13333334 0.03921569]\n   ...\n   [0.06666667 0.05490196 0.03529412]\n   [0.0627451  0.0509804  0.03137255]\n   [0.05490196 0.03921569 0.02745098]]\n\n  ...\n\n  [[0.8588236  0.854902   0.8745099 ]\n   [0.8705883  0.86666673 0.8862746 ]\n   [0.87843144 0.8745099  0.8941177 ]\n   ...\n   [0.16862746 0.14901961 0.1254902 ]\n   [0.16470589 0.14509805 0.12941177]\n   [0.15294118 0.13333334 0.11764707]]\n\n  [[0.8588236  0.854902   0.8745099 ]\n   [0.86274517 0.8588236  0.87843144]\n   [0.86666673 0.86274517 0.882353  ]\n   ...\n   [0.16470589 0.15294118 0.13333334]\n   [0.15686275 0.14117648 0.12941177]\n   [0.14509805 0.12941177 0.1254902 ]]\n\n  [[0.85098046 0.8470589  0.86666673]\n   [0.8588236  0.854902   0.8745099 ]\n   [0.86666673 0.86274517 0.882353  ]\n   ...\n   [0.15686275 0.14509805 0.1254902 ]\n   [0.14509805 0.12941177 0.1254902 ]\n   [0.13333334 0.11764707 0.1137255 ]]]\n\n\n [[[0.38431376 0.47450984 0.63529414]\n   [0.38823533 0.47450984 0.627451  ]\n   [0.3921569  0.47058827 0.6156863 ]\n   ...\n   [0.7725491  0.1254902  0.59607846]\n   [0.7411765  0.10588236 0.54509807]\n   [0.70980394 0.09411766 0.5058824 ]]\n\n  [[0.37647063 0.41960788 0.5294118 ]\n   [0.36862746 0.41176474 0.52156866]\n   [0.34901962 0.38823533 0.49411768]\n   ...\n   [0.79215693 0.1254902  0.6156863 ]\n   [0.76470596 0.10588236 0.5803922 ]\n   [0.7411765  0.09803922 0.5411765 ]]\n\n  [[0.25882354 0.25490198 0.30980393]\n   [0.25882354 0.25490198 0.30980393]\n   [0.2509804  0.24313727 0.29411766]\n   ...\n   [0.8078432  0.15294118 0.67058825]\n   [0.78823537 0.13333334 0.6392157 ]\n   [0.7843138  0.12156864 0.6117647 ]]\n\n  ...\n\n  [[0.52156866 0.14509805 0.09019608]\n   [0.5294118  0.15294118 0.09803922]\n   [0.5137255  0.13725491 0.08235294]\n   ...\n   [0.5058824  0.48627454 0.40000004]\n   [0.49803925 0.4901961  0.40000004]\n   [0.30588236 0.29411766 0.227451  ]]\n\n  [[0.5176471  0.14117648 0.07843138]\n   [0.50980395 0.13333334 0.07058824]\n   [0.5176471  0.14117648 0.08627451]\n   ...\n   [0.45098042 0.45098042 0.35686275]\n   [0.5019608  0.5019608  0.40784317]\n   [0.34117648 0.34509805 0.28235295]]\n\n  [[0.52156866 0.14117648 0.07843138]\n   [0.5019608  0.12156864 0.05882353]\n   [0.53333336 0.14901961 0.09803922]\n   ...\n   [0.4901961  0.49803925 0.4039216 ]\n   [0.4784314  0.48627454 0.40000004]\n   [0.3137255  0.3254902  0.25882354]]]\n\n\n [[[0.01960784 0.01568628 0.        ]\n   [0.01568628 0.01176471 0.        ]\n   [0.01960784 0.01568628 0.        ]\n   ...\n   [0.07843138 0.04313726 0.00784314]\n   [0.07843138 0.04705883 0.        ]\n   [0.08235294 0.05490196 0.        ]]\n\n  [[0.01960784 0.01568628 0.        ]\n   [0.01568628 0.01176471 0.        ]\n   [0.01960784 0.01568628 0.        ]\n   ...\n   [0.09019608 0.05490196 0.01960784]\n   [0.08235294 0.0509804  0.        ]\n   [0.08627451 0.05882353 0.        ]]\n\n  [[0.01960784 0.01568628 0.        ]\n   [0.01568628 0.01176471 0.        ]\n   [0.01960784 0.01568628 0.        ]\n   ...\n   [0.09411766 0.05882353 0.02352941]\n   [0.09803922 0.06666667 0.02352941]\n   [0.09803922 0.06666667 0.01568628]]\n\n  ...\n\n  [[0.21176472 0.1137255  0.03529412]\n   [0.21176472 0.10588236 0.03137255]\n   [0.22352943 0.10196079 0.03137255]\n   ...\n   [0.09803922 0.04705883 0.01176471]\n   [0.1137255  0.04705883 0.01568628]\n   [0.1254902  0.0509804  0.02352941]]\n\n  [[0.1764706  0.09019608 0.00784314]\n   [0.18823531 0.09019608 0.01176471]\n   [0.20392159 0.09019608 0.01960784]\n   ...\n   [0.09411766 0.05490196 0.00784314]\n   [0.10196079 0.05490196 0.00784314]\n   [0.10980393 0.05490196 0.01176471]]\n\n  [[0.17254902 0.09019608 0.00784314]\n   [0.18039216 0.09411766 0.01176471]\n   [0.19607845 0.09019608 0.01568628]\n   ...\n   [0.09411766 0.05882353 0.        ]\n   [0.09803922 0.0627451  0.00392157]\n   [0.1137255  0.06666667 0.01176471]]]]"
     ]
    }
   ],
   "source": [
    "history = model.fit_generator(\n",
    "      train_generator,\n",
    "      steps_per_epoch=8,  \n",
    "      epochs=5,\n",
    "      verbose=1)"
   ]
  },
  {
   "cell_type": "markdown",
   "metadata": {
    "colab_type": "text",
    "id": "o6vSHzPR2ghH"
   },
   "source": [
    "###Running the Model\n",
    "\n",
    "Let's now take a look at actually running a prediction using the model. This code will allow you to choose 1 or more files from your file system, it will then upload them, and run them through the model, giving an indication of whether the object is a horse or a human."
   ]
  },
  {
   "cell_type": "code",
   "execution_count": null,
   "metadata": {
    "colab": {},
    "colab_type": "code",
    "id": "DoWp43WxJDNT"
   },
   "outputs": [],
   "source": [
    "import numpy as np\n",
    "from tensorflow.keras.preprocessing import image\n",
    "\n",
    "test_images = 'test_images/'\n",
    "for fn in os.listdir(test_images):\n",
    " \n",
    "  # predicting images\n",
    "  test = os.path.join(test_images, fn)\n",
    "  img = image.load_img(test, target_size=(300, 300))\n",
    "  x = image.img_to_array(img)\n",
    "  x = np.expand_dims(x, axis=0)\n",
    "\n",
    "  images = np.vstack([x])\n",
    "  classes = model.predict(images, batch_size=10)\n",
    "  print(classes[0])\n",
    "  if classes[0]>0.5:\n",
    "    print(fn + \" is a human\")\n",
    "  else:\n",
    "    print(fn + \" is a horse\")\n"
   ]
  },
  {
   "cell_type": "markdown",
   "metadata": {
    "colab_type": "text",
    "id": "-8EHQyWGDvWz"
   },
   "source": [
    "### Visualizing Intermediate Representations\n",
    "\n",
    "To get a feel for what kind of features our convnet has learned, one fun thing to do is to visualize how an input gets transformed as it goes through the convnet.\n",
    "\n",
    "Let's pick a random image from the training set, and then generate a figure where each row is the output of a layer, and each image in the row is a specific filter in that output feature map. Rerun this cell to generate intermediate representations for a variety of training images."
   ]
  },
  {
   "cell_type": "code",
   "execution_count": null,
   "metadata": {
    "colab": {},
    "colab_type": "code",
    "id": "-5tES8rXFjux"
   },
   "outputs": [],
   "source": [
    "import numpy as np\n",
    "import random\n",
    "from tensorflow.keras.preprocessing.image import img_to_array, load_img\n",
    "\n",
    "# Let's define a new Model that will take an image as input, and will output\n",
    "# intermediate representations for all layers in the previous model after\n",
    "# the first.\n",
    "successive_outputs = [layer.output for layer in model.layers[1:]]\n",
    "#visualization_model = Model(img_input, successive_outputs)\n",
    "visualization_model = tf.keras.models.Model(inputs = model.input, outputs = successive_outputs)\n",
    "# Let's prepare a random input image from the training set.\n",
    "horse_img_files = [os.path.join(train_horse_dir, f) for f in train_horse_names]\n",
    "human_img_files = [os.path.join(train_human_dir, f) for f in train_human_names]\n",
    "img_path = random.choice(horse_img_files + human_img_files)\n",
    "\n",
    "img = load_img(img_path, target_size=(300, 300))  # this is a PIL image\n",
    "x = img_to_array(img)  # Numpy array with shape (150, 150, 3)\n",
    "x = x.reshape((1,) + x.shape)  # Numpy array with shape (1, 150, 150, 3)\n",
    "\n",
    "# Rescale by 1/255\n",
    "x /= 255\n",
    "\n",
    "# Let's run our image through our network, thus obtaining all\n",
    "# intermediate representations for this image.\n",
    "successive_feature_maps = visualization_model.predict(x)\n",
    "\n",
    "# These are the names of the layers, so can have them as part of our plot\n",
    "layer_names = [layer.name for layer in model.layers]\n",
    "\n",
    "# Now let's display our representations\n",
    "for layer_name, feature_map in zip(layer_names, successive_feature_maps):\n",
    "  if len(feature_map.shape) == 4:\n",
    "    # Just do this for the conv / maxpool layers, not the fully-connected layers\n",
    "    n_features = feature_map.shape[-1]  # number of features in feature map\n",
    "    # The feature map has shape (1, size, size, n_features)\n",
    "    size = feature_map.shape[1]\n",
    "    # We will tile our images in this matrix\n",
    "    display_grid = np.zeros((size, size * n_features))\n",
    "    for i in range(n_features):\n",
    "      # Postprocess the feature to make it visually palatable\n",
    "      x = feature_map[0, :, :, i]\n",
    "      x -= x.mean()\n",
    "      x /= x.std()\n",
    "      x *= 64\n",
    "      x += 128\n",
    "      x = np.clip(x, 0, 255).astype('uint8')\n",
    "      # We'll tile each filter into this big horizontal grid\n",
    "      display_grid[:, i * size : (i + 1) * size] = x\n",
    "    # Display the grid\n",
    "    scale = 20. / n_features\n",
    "    plt.figure(figsize=(scale * n_features, scale))\n",
    "    plt.title(layer_name)\n",
    "    plt.grid(False)\n",
    "    plt.imshow(display_grid, aspect='auto', cmap='viridis')"
   ]
  },
  {
   "cell_type": "markdown",
   "metadata": {
    "colab_type": "text",
    "id": "tuqK2arJL0wo"
   },
   "source": [
    "As you can see we go from the raw pixels of the images to increasingly abstract and compact representations. The representations downstream start highlighting what the network pays attention to, and they show fewer and fewer features being \"activated\"; most are set to zero. This is called \"sparsity.\" Representation sparsity is a key feature of deep learning.\n",
    "\n",
    "\n",
    "These representations carry increasingly less information about the original pixels of the image, but increasingly refined information about the class of the image. You can think of a convnet (or a deep network in general) as an information distillation pipeline."
   ]
  },
  {
   "cell_type": "markdown",
   "metadata": {
    "colab_type": "text",
    "id": "j4IBgYCYooGD"
   },
   "source": [
    "## Clean Up\n",
    "\n",
    "Before running the next exercise, run the following cell to terminate the kernel and free memory resources:"
   ]
  },
  {
   "cell_type": "code",
   "execution_count": null,
   "metadata": {
    "colab": {},
    "colab_type": "code",
    "id": "651IgjLyo-Jx"
   },
   "outputs": [],
   "source": [
    "import os, signal\n",
    "os.kill(os.getpid(), signal.SIGKILL)"
   ]
  },
  {
   "cell_type": "code",
   "execution_count": null,
   "metadata": {},
   "outputs": [],
   "source": []
  }
 ],
 "metadata": {
  "accelerator": "GPU",
  "colab": {
   "collapsed_sections": [],
   "name": "Horse-or-Human-NoValidation.ipynb",
   "provenance": [],
   "toc_visible": true,
   "version": "0.3.2"
  },
  "kernelspec": {
   "display_name": "Python 3",
   "language": "python",
   "name": "python3"
  },
  "language_info": {
   "codemirror_mode": {
    "name": "ipython",
    "version": 3
   },
   "file_extension": ".py",
   "mimetype": "text/x-python",
   "name": "python",
   "nbconvert_exporter": "python",
   "pygments_lexer": "ipython3",
   "version": "3.6.5"
  },
  "toc": {
   "base_numbering": 1,
   "nav_menu": {},
   "number_sections": true,
   "sideBar": true,
   "skip_h1_title": false,
   "title_cell": "Table of Contents",
   "title_sidebar": "Contents",
   "toc_cell": false,
   "toc_position": {},
   "toc_section_display": true,
   "toc_window_display": false
  }
 },
 "nbformat": 4,
 "nbformat_minor": 1
}
